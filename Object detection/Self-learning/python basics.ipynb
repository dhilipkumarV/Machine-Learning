{
  "cells": [
    {
      "metadata": {
        "_cell_guid": "b1076dfc-b9ad-4769-8c92-a6c4dae69d19",
        "_uuid": "8f2839f25d086af736a60e9eeb907d3b93b6e0e5"
      },
      "cell_type": "markdown",
      "source": "<h1>UAL - Video Analytics</h1>\n\n<h3>Self - learning - [Python basics](http://sthurlow.com/python/)</h3>\n* Part1 (Installing python, Simple programs, Variables and program)\n* Part2 (Loops and Conditionals, Functions, Data type)\n* Part3 (Lists, tuples and dictionaries)\n* Part4 (Classes)\n* Part5 (Importing modules)\n* Part6 (File I/O)\n* Part7  (Error Handling)"
    },
    {
      "metadata": {
        "_cell_guid": "79c7e3d0-c299-4dcb-8224-4455121ee9b0",
        "_uuid": "d629ff2d2480ee46fbb7e2d37f6b5fab8052498a",
        "collapsed": true
      },
      "cell_type": "markdown",
      "source": "<h4>Part1 (Installing python, Simple programs, Variables and program)</h4>\n\n* A windows program is compiled for windows only\n*  Python is never compiled in full - instead, an interpreter turns each line of code into 0s and 1s that your computer can understand\n* How to install Python - \n    * Download [link](https://www.python.org/ftp/python/3.6.4/python-3.6.4.exe) for Python 3.x\n    * Follow prompts\n    * Check version - run - \"python - V\" in cmd\n* Simple programs - \n"
    },
    {
      "metadata": {
        "trusted": false,
        "_uuid": "c25366b48668a0de65c85e87117407126ed60f67"
      },
      "cell_type": "code",
      "source": "",
      "execution_count": 2,
      "outputs": []
    },
    {
      "metadata": {
        "_kg_hide-output": true,
        "trusted": false,
        "_uuid": "2bf694c689f345ffdd46e71d90e54e0b3192958f"
      },
      "cell_type": "code",
      "source": "# print function\nprint('Hello World!')\n\n# basic math - addition\nprint(1 + 1)\n# basic math - substraction\nprint(6 - 5)\n# basic math - multiplication\nprint(2*5)\n# basic math - exponentials\nprint(2**5)\n# print statement\nprint('One KB is 2^10 bytes or', 2**10, 'bytes')\n# basic math - division\nprint(21/4)\n# basic math - modulus\nprint(21%4)\n\n# order of operations\n# parantheses have highest priority, followed by division and multplication operators\n\n# variables\n# used to store numeric or string values\nnum = 123\nchar = 'abc'\nprint('num - ',num,'\\nchar - ', char)",
      "execution_count": 21,
      "outputs": []
    },
    {
      "metadata": {
        "_uuid": "97a017fac33a13646b89cfe91d46903f1c32c3d8"
      },
      "cell_type": "markdown",
      "source": "<h4>Part2 (Loops and Conditionals, Functions, Data type)</h4>"
    },
    {
      "metadata": {
        "_kg_hide-output": true,
        "trusted": false,
        "_uuid": "0eeb1243dabcfb81d6dda1918103e671ef878c6e"
      },
      "cell_type": "code",
      "source": "# while loop\na = 0\nwhile a < 10:\n    print(a)\n    a+= 1\n# boolean expressions\n#Expression\tFunction\n# <  \tless than\n# <= \tless that or equal to\n# >  \tgreater than\n# >= \tgreater than or equal to\n# != \tnot equal to\n# <> \tnot equal to (alternate)\n# ==    equal to\n\n# conditional statements\nif True:\n    print('\\ntrue')\nelif False:\n    print('\\nfalse')\nelse:\n    print('\\nnone')\n    \n# functions\n\ndef add(x, y):\n    add = x + y\n    return add\n\nprint('2 + 3 =',add(2,3))",
      "execution_count": 37,
      "outputs": []
    },
    {
      "metadata": {
        "_uuid": "574070f8afef1c6dd5aa5cf4aa3b92fad1761e9e"
      },
      "cell_type": "markdown",
      "source": "<h4>Part3 (Lists, tuples and dictionaries)</h4>\n\n* **Lists** are what they seem - a list of values. Each one of them is numbered, starting from zero - the first one is numbered zero, the second 1, the third 2, etc. You can remove values from the list, and add new values to the end. Example: Your many cats' names\n* **Tuples** are just like lists, but you can't change their values. The values that you give it first up, are the values that you are stuck with for the rest of the program. Again, each value is numbered starting from zero, for easy reference. Example: the names of the months of the year\n* **Dictionaries** are similar to what their name suggests - a dictionary. In a dictionary, you have an 'index' of words, and for each of them a definition. In python, the word is called a 'key', and the definition a 'value'. The values in a dictionary aren't numbered - they aren't in any specific order, either - the key does the same thing. You can add, remove, and modify the values in dictionaries. Example: telephone book."
    },
    {
      "metadata": {
        "_kg_hide-output": true,
        "trusted": false,
        "_uuid": "3f8290cb2c0285911ec1c82ed1da2c750662d090"
      },
      "cell_type": "code",
      "source": "list_ = [2,1,3,4,5]\ntuple_ = (1,2,3,4,5)\ndict_ = {'a':1, 'b':2, 'c':3}\nlist_.append(6)\nprint(list_)\nprint('Value for key \"a\" = ',dict_['a'])\n# tuple_.append(6)# throws an error as tuples can't be modified\n\n# operations on lists\nlist_.sort()\nprint(list_)\n\n# operations on dictionaries\nvalues = dict_.values()",
      "execution_count": 69,
      "outputs": []
    },
    {
      "metadata": {
        "_uuid": "f5588a25fe9d1a96b7bd563d42242e8dc62a2bf5"
      },
      "cell_type": "markdown",
      "source": "<h4>Part4 (Classes)</h4>\n* Group of functions and variables"
    },
    {
      "metadata": {
        "_kg_hide-output": true,
        "trusted": false,
        "_uuid": "8c9ba44ce64d631bd8d8525bafb3223678947a94"
      },
      "cell_type": "code",
      "source": "class Shape:\n    def __init__(self,x,y):\n        self.x = x\n        self.y = y\n    description = \"This shape has not been described yet\"\n    author = \"Nobody has claimed to make this shape yet\"\n    def area(self):\n        return self.x * self.y\n    def perimeter(self):\n        return 2 * self.x + 2 * self.y\n    def describe(self,text):\n        self.description = text\n    def authorName(self,text):\n        self.author = text\n    def scaleSize(self,scale):\n        self.x = self.x * scale\n        self.y = self.y * scale\n        \nclass Square(Shape):\n    def __init__(self,x):\n        self.x = x\n        self.y = x\n    \nclass DoubleSquare(Square):\n    def __init__(self,y):\n        self.x = 2 * y\n        self.y = y\n    def perimeter(self):\n        return 2 * self.x + 3 * self.y        \n        \nrectangle = Shape(10, 20)\nprint(rectangle.area())",
      "execution_count": 76,
      "outputs": []
    },
    {
      "metadata": {
        "collapsed": true,
        "trusted": false,
        "_uuid": "01393286c4d441d4fb6f9fa738944ae746b11516"
      },
      "cell_type": "code",
      "source": "# Again, assume the definitions on Shape,\n# Square and DoubleSquare have been run.\n# First, create a dictionary:\ndictionary = {}\n\n# Then, create some instances of classes in the dictionary:\ndictionary[\"DoubleSquare 1\"] = DoubleSquare(5)\ndictionary[\"long rectangle\"] = Shape(600,45)\n\n#You can now use them like a normal class:\nprint dictionary[\"long rectangle\"].area()\n\ndictionary[\"DoubleSquare 1\"].authorName(\"The Gingerbread Man\")\nprint dictionary[\"DoubleSquare 1\"].author",
      "execution_count": null,
      "outputs": []
    },
    {
      "metadata": {
        "_uuid": "05d629aa3cb874b6835d989611c2886aa468ca92"
      },
      "cell_type": "markdown",
      "source": "<h4>Part5 (Importing modules)</h4>\n* A module is a python file that (generally) has only defenitions of variables, functions, and classes. For example, a module might look like this:"
    },
    {
      "metadata": {
        "trusted": false,
        "collapsed": true,
        "_uuid": "6167a3ee5d5b100a0d869405612d6f0e27ab3778"
      },
      "cell_type": "code",
      "source": "### EXAMPLE PYTHON MODULE\n# Define some variables:\nnumberone = 1\nageofqueen = 78\n\n# define some functions\ndef printhello():\n    print(\"hello\")\n    \ndef timesfour(input):\n    print(input * 4)\n    \n# define a class\nclass Piano:\n    def __init__(self):\n        self.type = raw_input(\"What type of piano? \")\n        self.height = raw_input(\"What height (in feet)? \")\n        self.price = raw_input(\"How much did it cost? \")\n        self.age = raw_input(\"How old is it (in years)? \")\n\n    def printdetails(self):\n        print(\"This piano is a/an \" + self.height + \" foot\")\n        print(self.type, \"piano, \" + self.age, \"years old and costing\\\" + self.price + \")",
      "execution_count": 85,
      "outputs": []
    },
    {
      "metadata": {
        "_uuid": "6d3dc6854e688e4542b8ca45a575637b51d9c233"
      },
      "cell_type": "markdown",
      "source": "* To import all the variables, functions and classes from moduletest.py into another program you are writing, we use the import operator\n*  In order to use the items in the module in your main program, you use the following:"
    },
    {
      "metadata": {
        "_kg_hide-output": true,
        "trusted": false,
        "_uuid": "6a063ef0daaaed8bc868b9e4dbfb98e3f82e2046"
      },
      "cell_type": "code",
      "source": "### mainprogam.py\n### IMPORTS ANOTHER MODULE\nimport moduletest\n### USING AN IMPORTED MODULE\n# Use the form modulename.itemname\n# Examples:\nprint(moduletest.ageofqueen)\ncfcpiano = moduletest.Piano()\ncfcpiano.printdetails()",
      "execution_count": 87,
      "outputs": []
    },
    {
      "metadata": {
        "_uuid": "a5d092366eb4de8d3271e92f8ed427847c6e39f7"
      },
      "cell_type": "markdown",
      "source": "* To import only the objects from a module - "
    },
    {
      "metadata": {
        "_kg_hide-output": true,
        "collapsed": true,
        "trusted": false,
        "_uuid": "6398ef169320f0f19f37f0c7d5c46e16a6077e76"
      },
      "cell_type": "code",
      "source": "### IMPORT ITEMS DIRECTLY INTO YOUR PROGRAM\n\n# import them\nfrom moduletest import ageofqueen\nfrom moduletest import printhello\n\n# now try using them\nprint ageofqueen\nprinthello()",
      "execution_count": null,
      "outputs": []
    },
    {
      "metadata": {
        "_uuid": "efdc9b1a6453b2022244ea1f3e6129f92db825a4"
      },
      "cell_type": "markdown",
      "source": "<h4>Part6 (File I/O)</h4>\n* **Opening a file** - To open a text file you use, well, the open() function. You pass certain parameters to open() to tell it in which way the file should be opened - \n    * 'r' for read only\n    * 'w' for writing only (if there is an old file, it will be written over)\n    * 'a' for appending (adding things on to the end of the file) and\n    * 'r+' for both reading and writing\n* **Pickle** - Pickles, in Python, are objects saved to a file\n    * An object in this case could be a variables, instance of a class, or a list, dictionary, or tuple\n    * The object can then be restored, or unpickled, later on. In other words, you are 'saving' your objects"
    },
    {
      "metadata": {
        "_kg_hide-output": true,
        "collapsed": true,
        "trusted": false,
        "_uuid": "98d4742efd36c671436e1cd1cf2d18eb20635caf"
      },
      "cell_type": "code",
      "source": "openfile = open('pathtofile', 'r')\nopenfile.read()\n\n### pickletest.py\n### PICKLE AN OBJECT\n\n# import the pickle module\nimport pickle\n\n# lets create something to be pickled\n# How about a list?\npicklelist = ['one',2,'three','four',5,'can you count?']\n\n# now create a file\n# replace filename with the file you want to create\nfile = open('filename', 'w')\n\n# now let's pickle picklelist\npickle.dump(picklelist,file)\n\n# close the file, and your pickling is complete\nfile.close()\n\n### unpickletest.py\n### unpickle file\n\n# import the pickle module\nimport pickle\n\n# now open a file for reading\n# replace filename with the path to the file you created in pickletest.py\nunpicklefile = open('filename', 'r')\n\n# now load the list that we pickled into a new object\nunpickledlist = pickle.load(unpicklefile)\n\n# close the file, just for safety\nunpicklefile.close()\n\n# Try out using the list\nfor item in unpickledlist:\n    print item",
      "execution_count": null,
      "outputs": []
    },
    {
      "metadata": {
        "_uuid": "6cebe9f066d90ead840ae115fd3602c44b4dab5d"
      },
      "cell_type": "markdown",
      "source": "<h4>Part7  (Error Handling)</h4>"
    },
    {
      "metadata": {
        "_kg_hide-output": true,
        "trusted": false,
        "_uuid": "c3bd93693982d68c9edea430fbab2c52c2009a90"
      },
      "cell_type": "code",
      "source": "# try and except\ntry:\n    function(world,parameters)\nexcept:\n    print(world.errormsg)",
      "execution_count": 89,
      "outputs": []
    },
    {
      "metadata": {
        "_uuid": "f30ead3bb8b372142ec756046aec3b04baade1cb"
      },
      "cell_type": "markdown",
      "source": ""
    }
  ],
  "metadata": {
    "kernelspec": {
      "display_name": "Python 3",
      "language": "python",
      "name": "python3"
    },
    "language_info": {
      "codemirror_mode": {
        "name": "ipython",
        "version": 3
      },
      "file_extension": ".py",
      "mimetype": "text/x-python",
      "name": "python",
      "nbconvert_exporter": "python",
      "pygments_lexer": "ipython3",
      "version": "3.6.4"
    }
  },
  "nbformat": 4,
  "nbformat_minor": 1
}
