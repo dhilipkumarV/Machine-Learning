{
 "cells": [
  {
   "cell_type": "code",
   "execution_count": 17,
   "metadata": {},
   "outputs": [],
   "source": [
    "import os\n",
    "import cv2\n",
    "import tensorflow\n",
    "import keras\n",
    "import sklearn\n",
    "import pandas as pd\n",
    "import numpy as np"
   ]
  },
  {
   "cell_type": "code",
   "execution_count": null,
   "metadata": {
    "collapsed": true
   },
   "outputs": [],
   "source": [
    "# Process flow - \n",
    "'''\n",
    "- View on number and size of images in each class\n",
    "- Read in images\n",
    "    - Convert to grayscale and resize as required\n",
    "    - Perform sampling\n",
    "- Define the CNN structure\n",
    "- Train, optimize the model\n",
    "- Test on validation set\n",
    "    - k-fold\n",
    "- Predict for test data\n",
    "'''"
   ]
  },
  {
   "cell_type": "code",
   "execution_count": 6,
   "metadata": {},
   "outputs": [
    {
     "name": "stdout",
     "output_type": "stream",
     "text": [
      "Current working directory :  C:\\Users\\rohan.nanaware\\Documents\\Rohan(local)\\2 Non-Mu Sigma\\HackerEarth\n"
     ]
    }
   ],
   "source": [
    "# print the working directory\n",
    "print('Current working directory : ', os.getcwd())"
   ]
  },
  {
   "cell_type": "code",
   "execution_count": 7,
   "metadata": {},
   "outputs": [
    {
     "name": "stdout",
     "output_type": "stream",
     "text": [
      "List of classes in train directory :  ['0', '1', '10', '11', '12', '13', '14', '2', '3', '4', '5', '6', '7', '8', '9']\n"
     ]
    }
   ],
   "source": [
    "# print the folder names/ list of classes in train folder\n",
    "data_dir  = os.getcwd()\n",
    "train_dir = os.path.join(data_dir, 'train')\n",
    "test_dir  = os.path.join(data_dir, 'test')\n",
    "print('List of classes in train directory : ', os.listdir(train_dir))"
   ]
  },
  {
   "cell_type": "code",
   "execution_count": 13,
   "metadata": {},
   "outputs": [
    {
     "name": "stdout",
     "output_type": "stream",
     "text": [
      "Checking if the dictionary was defined properly :  Sweater\n"
     ]
    }
   ],
   "source": [
    "# list of classes in train directory\n",
    "list_class_num = os.listdir(train_dir)\n",
    "list_class_dct = {'0':'Blouse',\n",
    "\t\t\t\t  '1':'Cloak',\n",
    "\t\t\t\t  '2':'Coat',\n",
    "\t\t\t\t  '3':'Jacket',\n",
    "\t\t\t\t  '4':'Jersey',\n",
    "\t\t\t\t  '5':'Long Dress',\n",
    "\t\t\t\t  '6':'Polo Shirt',\n",
    "\t\t\t\t  '7':'Robe',\n",
    "\t\t\t\t  '8':'Shirt',\n",
    "\t\t\t\t  '9':'Short Dress',\n",
    "\t\t\t\t  '10':'Suit',\n",
    "\t\t\t\t  '11':'Sweater',\n",
    "\t\t\t\t  '12':'Undergarment',\n",
    "\t\t\t\t  '13':'Uniform',\n",
    "\t\t\t\t  '14':'Waistcoat'}\n",
    "\n",
    "try:\n",
    "    print('Checking if the dictionary was defined properly : ', list_class_dct['11'])\n",
    "except Exception as e:\n",
    "    print(e)"
   ]
  },
  {
   "cell_type": "code",
   "execution_count": 16,
   "metadata": {},
   "outputs": [
    {
     "name": "stdout",
     "output_type": "stream",
     "text": [
      "784 images of Blouse class\n",
      "6186 images of Cloak class\n",
      "7936 images of Coat class\n",
      "8203 images of Jacket class\n",
      "8835 images of Jersey class\n",
      "683 images of Long Dress class\n",
      "5083 images of Polo Shirt class\n",
      "1248 images of Robe class\n",
      "3752 images of Shirt class\n",
      "5301 images of Short Dress class\n",
      "4560 images of Suit class\n",
      "1248 images of Sweater class\n",
      "4848 images of Undergarment class\n",
      "2935 images of Uniform class\n",
      "656 images of Waistcoat class\n"
     ]
    }
   ],
   "source": [
    "# print the numeber of images per training class\n",
    "for class_num, class_str in list_class_dct.items():\n",
    "\tprint('{} images of {} class'.format(len(os.listdir(os.path.join(train_dir, class_num))), class_str))"
   ]
  },
  {
   "cell_type": "code",
   "execution_count": 18,
   "metadata": {},
   "outputs": [
    {
     "name": "stdout",
     "output_type": "stream",
     "text": [
      "Size of train data :  (62258, 4)\n",
      "Size of test data :  (21273, 2)\n"
     ]
    }
   ],
   "source": [
    "# create a lookup file for the train & test data\n",
    "train = []\n",
    "for class_num, class_str in list_class_dct.items():\n",
    "\tfor file in os.listdir(os.path.join(train_dir, class_num)):\n",
    "\t\ttrain.append(['train/{}/{}'.format(class_num, file), file, class_num, class_str])\n",
    "\n",
    "train_df = pd.DataFrame(train, columns = ['filepath', 'file', 'class_num', 'class_str'])\n",
    "print('Size of train data : ', train_df.shape)\n",
    "\n",
    "test = []\n",
    "for file in os.listdir(test_dir):\n",
    "\ttest.append(['test/{}'.format(file), file])\n",
    "\n",
    "test_df = pd.DataFrame(test, columns = ['filepath', 'file'])\n",
    "print('Size of test data : ', test_df.shape)"
   ]
  },
  {
   "cell_type": "code",
   "execution_count": 24,
   "metadata": {},
   "outputs": [
    {
     "data": {
      "text/html": [
       "<div>\n",
       "<style>\n",
       "    .dataframe thead tr:only-child th {\n",
       "        text-align: right;\n",
       "    }\n",
       "\n",
       "    .dataframe thead th {\n",
       "        text-align: left;\n",
       "    }\n",
       "\n",
       "    .dataframe tbody tr th {\n",
       "        vertical-align: top;\n",
       "    }\n",
       "</style>\n",
       "<table border=\"1\" class=\"dataframe\">\n",
       "  <thead>\n",
       "    <tr style=\"text-align: right;\">\n",
       "      <th></th>\n",
       "      <th>filepath</th>\n",
       "      <th>file</th>\n",
       "      <th>class_num</th>\n",
       "      <th>class_str</th>\n",
       "    </tr>\n",
       "  </thead>\n",
       "  <tbody>\n",
       "    <tr>\n",
       "      <th>0</th>\n",
       "      <td>train/0/n02854926_10038_0.jpg</td>\n",
       "      <td>n02854926_10038_0.jpg</td>\n",
       "      <td>0</td>\n",
       "      <td>Blouse</td>\n",
       "    </tr>\n",
       "    <tr>\n",
       "      <th>1</th>\n",
       "      <td>train/0/n02854926_1007_0.jpg</td>\n",
       "      <td>n02854926_1007_0.jpg</td>\n",
       "      <td>0</td>\n",
       "      <td>Blouse</td>\n",
       "    </tr>\n",
       "    <tr>\n",
       "      <th>2</th>\n",
       "      <td>train/0/n02854926_10085_0.jpg</td>\n",
       "      <td>n02854926_10085_0.jpg</td>\n",
       "      <td>0</td>\n",
       "      <td>Blouse</td>\n",
       "    </tr>\n",
       "    <tr>\n",
       "      <th>3</th>\n",
       "      <td>train/0/n02854926_10122_0.jpg</td>\n",
       "      <td>n02854926_10122_0.jpg</td>\n",
       "      <td>0</td>\n",
       "      <td>Blouse</td>\n",
       "    </tr>\n",
       "    <tr>\n",
       "      <th>4</th>\n",
       "      <td>train/0/n02854926_10144_0.jpg</td>\n",
       "      <td>n02854926_10144_0.jpg</td>\n",
       "      <td>0</td>\n",
       "      <td>Blouse</td>\n",
       "    </tr>\n",
       "  </tbody>\n",
       "</table>\n",
       "</div>"
      ],
      "text/plain": [
       "                        filepath                   file class_num class_str\n",
       "0  train/0/n02854926_10038_0.jpg  n02854926_10038_0.jpg         0    Blouse\n",
       "1   train/0/n02854926_1007_0.jpg   n02854926_1007_0.jpg         0    Blouse\n",
       "2  train/0/n02854926_10085_0.jpg  n02854926_10085_0.jpg         0    Blouse\n",
       "3  train/0/n02854926_10122_0.jpg  n02854926_10122_0.jpg         0    Blouse\n",
       "4  train/0/n02854926_10144_0.jpg  n02854926_10144_0.jpg         0    Blouse"
      ]
     },
     "execution_count": 24,
     "metadata": {},
     "output_type": "execute_result"
    }
   ],
   "source": [
    "train_df.head()"
   ]
  },
  {
   "cell_type": "code",
   "execution_count": 25,
   "metadata": {},
   "outputs": [
    {
     "data": {
      "text/html": [
       "<div>\n",
       "<style>\n",
       "    .dataframe thead tr:only-child th {\n",
       "        text-align: right;\n",
       "    }\n",
       "\n",
       "    .dataframe thead th {\n",
       "        text-align: left;\n",
       "    }\n",
       "\n",
       "    .dataframe tbody tr th {\n",
       "        vertical-align: top;\n",
       "    }\n",
       "</style>\n",
       "<table border=\"1\" class=\"dataframe\">\n",
       "  <thead>\n",
       "    <tr style=\"text-align: right;\">\n",
       "      <th></th>\n",
       "      <th>filepath</th>\n",
       "      <th>file</th>\n",
       "    </tr>\n",
       "  </thead>\n",
       "  <tbody>\n",
       "    <tr>\n",
       "      <th>0</th>\n",
       "      <td>test/n02667093_10298_0.jpg</td>\n",
       "      <td>n02667093_10298_0.jpg</td>\n",
       "    </tr>\n",
       "    <tr>\n",
       "      <th>1</th>\n",
       "      <td>test/n02667093_1089_0.jpg</td>\n",
       "      <td>n02667093_1089_0.jpg</td>\n",
       "    </tr>\n",
       "    <tr>\n",
       "      <th>2</th>\n",
       "      <td>test/n02667093_113_0.jpg</td>\n",
       "      <td>n02667093_113_0.jpg</td>\n",
       "    </tr>\n",
       "    <tr>\n",
       "      <th>3</th>\n",
       "      <td>test/n02667093_1142_0.jpg</td>\n",
       "      <td>n02667093_1142_0.jpg</td>\n",
       "    </tr>\n",
       "    <tr>\n",
       "      <th>4</th>\n",
       "      <td>test/n02667093_1172_0.jpg</td>\n",
       "      <td>n02667093_1172_0.jpg</td>\n",
       "    </tr>\n",
       "  </tbody>\n",
       "</table>\n",
       "</div>"
      ],
      "text/plain": [
       "                     filepath                   file\n",
       "0  test/n02667093_10298_0.jpg  n02667093_10298_0.jpg\n",
       "1   test/n02667093_1089_0.jpg   n02667093_1089_0.jpg\n",
       "2    test/n02667093_113_0.jpg    n02667093_113_0.jpg\n",
       "3   test/n02667093_1142_0.jpg   n02667093_1142_0.jpg\n",
       "4   test/n02667093_1172_0.jpg   n02667093_1172_0.jpg"
      ]
     },
     "execution_count": 25,
     "metadata": {},
     "output_type": "execute_result"
    }
   ],
   "source": [
    "test_df.head()"
   ]
  }
 ],
 "metadata": {
  "kernelspec": {
   "display_name": "Python 3",
   "language": "python",
   "name": "python3"
  },
  "language_info": {
   "codemirror_mode": {
    "name": "ipython",
    "version": 3
   },
   "file_extension": ".py",
   "mimetype": "text/x-python",
   "name": "python",
   "nbconvert_exporter": "python",
   "pygments_lexer": "ipython3",
   "version": "3.6.3"
  }
 },
 "nbformat": 4,
 "nbformat_minor": 2
}
