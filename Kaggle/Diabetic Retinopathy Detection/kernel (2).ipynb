{
  "cells": [
    {
      "metadata": {
        "_uuid": "8f2839f25d086af736a60e9eeb907d3b93b6e0e5",
        "_cell_guid": "b1076dfc-b9ad-4769-8c92-a6c4dae69d19"
      },
      "cell_type": "markdown",
      "source": "<h2>Creating an image classifier to detect Diabetic Retinopathy and identify it's severity</h2>"
    },
    {
      "metadata": {
        "_uuid": "3c7af861fbb9fdcf3dfb76f9fadff63edba00f3f",
        "_cell_guid": "e6456ad9-10da-4463-9e8f-a5f679b1a4a0"
      },
      "cell_type": "markdown",
      "source": "Objective is to build a classifer that can detect presence of Diabetic Retinopathy and identify it's severity. The current procedure is **highly manual, time consuming and requires skilled resources** which in turn influences the speed of diagnosis.\n\nA model object can be deployed in a fairly good quality camera and be used to provide fairly accurate retinopathy detection which if required may be scrutinized by a human counterpart later."
    },
    {
      "metadata": {
        "_uuid": "de3ac12b296b8ecef355cbf5b3d0bef2663ba23c",
        "_cell_guid": "0ad8a65d-3378-486a-a3c2-b6a9928e39a8"
      },
      "cell_type": "markdown",
      "source": "Notes - \n* Need to factor in the noise in data due to image inversion. There are generally two ways to tell if an image is inverted:\n    * It is inverted if the macula (the small dark central area) is slightly higher than the midline through the optic nerve. If the macula is lower than the midline of the optic nerve, it's not inverted\n    * If there is a notch on the side of the image (square, triangle, or circle) then it's not inverted. If there is no notch, it's inverted\n* Besides there would be noise due to over and underexposure, out of focus image and inclusion of artifacts etc.    \n* Data decription mentioned noise in labels, not sure what it meant    "
    },
    {
      "metadata": {
        "collapsed": true,
        "_uuid": "1b8a1cc3ec6e0847fceed814af581d47f693bbfe",
        "_cell_guid": "d086c585-0f28-49a4-bf62-42c7fabbf2f5",
        "trusted": false
      },
      "cell_type": "code",
      "source": "import os\nimport pandas as pd\nimport random\nimport numpy as np\nimport cv2",
      "execution_count": null,
      "outputs": []
    },
    {
      "metadata": {
        "collapsed": true,
        "_uuid": "d629ff2d2480ee46fbb7e2d37f6b5fab8052498a",
        "_cell_guid": "79c7e3d0-c299-4dcb-8224-4455121ee9b0",
        "scrolled": true,
        "trusted": false
      },
      "cell_type": "code",
      "source": "#os.listdir('../input')\ntrainLabels = pd.read_csv('../input/trainLabels.csv')\ntrainLabels.head()",
      "execution_count": null,
      "outputs": []
    },
    {
      "metadata": {
        "collapsed": true,
        "_uuid": "e6ced22db5fb4c0ef86a532c69a5efe0a2a48781",
        "_cell_guid": "c7023211-61e6-4af3-9a62-97032d77cb07",
        "trusted": false
      },
      "cell_type": "code",
      "source": "listOfImages = os.listdir('../input')\nlistOfImages.remove('trainLabels.csv')\nnp.size(listOfImages)",
      "execution_count": null,
      "outputs": []
    },
    {
      "metadata": {
        "collapsed": true,
        "_uuid": "bc579251e2ca287f34abd0a624033238d2bbbdb1",
        "_cell_guid": "26ed1a5c-f406-4dad-9c55-66235c44bba7",
        "trusted": false
      },
      "cell_type": "code",
      "source": "imlabel = []\n\nfor file in listOfImages:\n    base = os.path.basename(\"../input/\" + file)\n    fileName = os.path.splitext(base)[0]\n    imlabel.append(trainLabels.loc[trainLabels.image == fileName,'level'].values[0])\n\n",
      "execution_count": null,
      "outputs": []
    }
  ],
  "metadata": {
    "language_info": {
      "name": "python",
      "version": "3.6.6",
      "mimetype": "text/x-python",
      "codemirror_mode": {
        "name": "ipython",
        "version": 3
      },
      "pygments_lexer": "ipython3",
      "nbconvert_exporter": "python",
      "file_extension": ".py"
    },
    "kernelspec": {
      "display_name": "Python 3",
      "language": "python",
      "name": "python3"
    }
  },
  "nbformat": 4,
  "nbformat_minor": 1
}