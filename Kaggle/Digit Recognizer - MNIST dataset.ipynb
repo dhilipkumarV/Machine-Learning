{
  "cells": [
    {
      "metadata": {
        "_uuid": "d629ff2d2480ee46fbb7e2d37f6b5fab8052498a",
        "collapsed": true,
        "_cell_guid": "79c7e3d0-c299-4dcb-8224-4455121ee9b0"
      },
      "cell_type": "markdown",
      "source": "<h1> Digit recognizer - Learning basics of  image processing </h1>\n\nImage processing algorithms that need to be learnt -\n    1. Tensorflow\n    2. Keras\n    3. ...\n    \nThis problem may serve a good training ground for image processing of images that are stored as transformed flattened datasets. Real life examples may involve more complexities like manual labelling, actual images instead of datasets, etc. (for eg. the[ Plant seedling problem](https://www.kaggle.com/c/plant-seedlings-classification))\n\n\n<h3>Reference</h3>\n\n* Questions\n    * How can we decide the optimal value of parameters and hyperparameters for a NN?\n    * Does the shape of input data vary for different image classifiers? - keras : numpx, numpx, 3; traditional : numpx x numpx x 3, 1 "
    },
    {
      "metadata": {
        "_uuid": "e59fa93bbaf3c5c5a66fb3090d428a297d2fd225",
        "_cell_guid": "dca5610e-7c55-4eac-9d56-4bac316c0196"
      },
      "cell_type": "markdown",
      "source": "<h2>Content</h2>\n\n*[Source](https://www.kaggle.com/yassineghouzam/introduction-to-cnn-keras-0-997-top-6)*\n* Introduction\n* Data preparation\n    * Load data\n    * Check for null and missing values\n    * Normalization\n    * Reshape\n    * Label encodingSplit training and validation set\n* CNN\n    * Define the model\n    * Set the optimizer and annealer\n    * Data augmentation\n* Model evaluation\n    * Train and validation curvers\n    * Confusion matrix\n* Predction and submission"
    },
    {
      "metadata": {
        "_uuid": "06f082b0a75c4d94c77bb5a70097105ea9769ff2",
        "_cell_guid": "5a51097e-a58b-4546-9432-7748a641fddf"
      },
      "cell_type": "markdown",
      "source": "<h3>Introduction</h3>\n* 5 layered Sequential Convolutional Neural Network\n* Build using keras API(Tensorflow backend)"
    },
    {
      "metadata": {
        "_uuid": "d175f35a2883fc314bb787a4267aed2529b0274c",
        "collapsed": true,
        "_cell_guid": "b4199e4b-ef87-4acc-b0c0-281ddd530b77",
        "trusted": false
      },
      "cell_type": "code",
      "source": "#import required libraries\nimport pandas as pd\nimport numpy as np\nimport matplotlib.pyplot as plt\nimport matplotlib.image as mpimg\nimport seaborn as sns\n%matplotlib inline\n\nnp.random.seed(2)\n\nfrom sklearn.model_selection import train_test_split\nfrom sklearn.metrics import confusion_matrix\nimport itertools\n\nfrom keras.utils.np_utils import to_categorical # for one-hot encoding\nfrom keras.models import Sequential\nfrom keras.layers import Dense, Dropout, Flatten, Conv2D, MaxPool2D\nfrom keras.optimizers import RMSprop\nfrom keras.preprocessing.image import ImageDataGenerator\nfrom keras.callbacks import ReduceLROnPlateau\n\nsns.set(style = 'white', context = 'notebook', palette = 'deep')",
      "execution_count": null,
      "outputs": []
    },
    {
      "metadata": {
        "_uuid": "198aace238168ce82e59f0da60971a7f42f9d28b",
        "_cell_guid": "2f220469-919f-444b-9729-0181bc207a0d"
      },
      "cell_type": "markdown",
      "source": "<h3>Data preparation</h3>"
    },
    {
      "metadata": {
        "_uuid": "8518cf7f1f9977032ed7ded61a7d94d48765651f",
        "collapsed": true,
        "_cell_guid": "8d3da390-40d4-4a71-879c-63ac813a92e4",
        "trusted": false
      },
      "cell_type": "code",
      "source": "# load data\ntrain = pd.read_csv('../input/train.csv')\ntest  = pd.read_csv('../input/test.csv')",
      "execution_count": null,
      "outputs": []
    },
    {
      "metadata": {
        "_uuid": "43d3b07c3b940f86e6f4ba9c93bdd4b8346e552b",
        "_cell_guid": "be0c3404-28f0-4bed-90b2-f893649a55d0",
        "trusted": false,
        "collapsed": true
      },
      "cell_type": "code",
      "source": "Y_train = train['label']\n\n# Drop 'label' column\nX_train = train.drop(labels = ['label'], axis = 1)\n\nfree_space = 1\nif free_space:\n    del train\n    \ng = sns.countplot(Y_train)\n\nY_train.value_counts()",
      "execution_count": null,
      "outputs": []
    },
    {
      "metadata": {
        "_uuid": "11c5e62925462d0424f282de86fecf1ff9f7f852",
        "_cell_guid": "b920eda8-3219-489d-abbc-41dcbe84888f"
      },
      "cell_type": "markdown",
      "source": "Number of training examples almost consistent across all labels"
    },
    {
      "metadata": {
        "_uuid": "2b4ee307d87246e14dbfc0cc455cbdec0ab63297",
        "_cell_guid": "284aae07-67df-4ac1-a805-7f417cd1b325",
        "trusted": false,
        "collapsed": true
      },
      "cell_type": "code",
      "source": "# check for missing values\n\nX_train.isnull().any().describe()",
      "execution_count": null,
      "outputs": []
    },
    {
      "metadata": {
        "_uuid": "d1446f2fee4d6adba197bed66e498afd784fcf4c",
        "_cell_guid": "3528d709-b788-45c1-b74d-9a594f28f4af"
      },
      "cell_type": "markdown",
      "source": "No missing values present in the data"
    },
    {
      "metadata": {
        "_uuid": "6a224331180946668521652e0a20ce488e53de9f",
        "collapsed": true,
        "_cell_guid": "869c8ecf-ec6e-46e8-b3dd-995df2de9877",
        "trusted": false
      },
      "cell_type": "code",
      "source": "# normalization\n\n# We perform a grayscale normalization to reduce the effect of illumination's difference\n# Also CNN converges faster on a [0 1] than a [0 255]\n\nX_train = X_train / 255.0\ntest    = test / 255.0",
      "execution_count": null,
      "outputs": []
    },
    {
      "metadata": {
        "_uuid": "0b300aea0b7df0440881f0b628f03e2d4c575ead",
        "_cell_guid": "bc6149d1-5032-4609-bf0a-f543c42b1bfc",
        "trusted": false,
        "collapsed": true
      },
      "cell_type": "code",
      "source": "# reshape\nX_train = X_train.values.reshape(-1, 28, 28, 1) # don't understand this code fully - why -1?\ntest = test.values.reshape(-1, 28, 28, 1)",
      "execution_count": null,
      "outputs": []
    },
    {
      "metadata": {
        "_uuid": "bb978b7a04c208d889143da1fb422798b7fea323",
        "collapsed": true,
        "_cell_guid": "70707955-4d14-4ea6-a68e-7e96b7a94d1b",
        "trusted": false
      },
      "cell_type": "code",
      "source": "# label encoding - encode labels into one hot vectors, eg. 2 = [0 1 0 0 0 0 0 0 0 0]\nY_train = to_categorical(Y_train, num_classes = 10)",
      "execution_count": null,
      "outputs": []
    },
    {
      "metadata": {
        "_uuid": "e7dfeadaf224d0193ea61b56c2579abe0b3df4b4",
        "collapsed": true,
        "_cell_guid": "14a958ab-72c3-402f-bf94-fd0bb9ca51e1",
        "trusted": false
      },
      "cell_type": "code",
      "source": "# split train and validation sets\nrandom_seed = 2\nX_train, X_val, Y_train, Y_val = train_test_split(X_train, Y_train, test_size = 0.1, random_state = random_seed)",
      "execution_count": null,
      "outputs": []
    },
    {
      "metadata": {
        "_uuid": "7c8820586f664a69518436b917c377f167b3e10e",
        "_cell_guid": "f291b566-7993-4193-b40c-7fd4e30d6f6d",
        "trusted": false,
        "collapsed": true
      },
      "cell_type": "code",
      "source": "# view an example\ng = plt.imshow(X_train[1][:,:,0])",
      "execution_count": null,
      "outputs": []
    },
    {
      "metadata": {
        "_uuid": "4bd4d22bf871c24a4fda9b8ebfa9b49ba917f50c",
        "_cell_guid": "8ec6eac4-9dd3-478f-b9f9-4a7c93af692f"
      },
      "cell_type": "markdown",
      "source": "<h3>CNN</h3>"
    },
    {
      "metadata": {
        "_uuid": "a7aea0df40f00dcc97b2c3521cc9d298219a708c",
        "_cell_guid": "5b4b8442-bd21-46c8-b9c0-1792dcefe01e",
        "trusted": false,
        "collapsed": true
      },
      "cell_type": "code",
      "source": "# Set the CNN model\n# Architecture used - In -> [[Conv2D->relu]*2 -> MaxPool2D -> Dropout]*2 -> Flatten -> Dense -> Drop out -> Out\n\nmodel = Sequential()\nmodel.add(Conv2D(filters = 32,# add comments later - what does it mean by applying filters\n                 kernel_size = (5,5), \n                 padding = 'Same',\n                activation = 'relu',\n                input_shape = (28, 28, 1)))\nmodel.add(Conv2D(filters = 32,\n                 kernel_size = (5,5), \n                 padding = 'Same',# what is padding\n                activation = 'relu'))# why do I not need to provide the input shape?\nmodel.add(MaxPool2D(pool_size = (2,2)))\nmodel.add(Dropout(0.25))\n\nmodel.add(Conv2D(filters = 64,\n                 kernel_size = (3,3), \n                 padding = 'Same',\n                activation = 'relu'))\nmodel.add(Conv2D(filters = 64,\n                 kernel_size = (3,3), \n                 padding = 'Same',\n                activation = 'relu'))\nmodel.add(MaxPool2D(pool_size = (2,2),# how does the selection happen?\n                   strides = (2,2)))# what are strides?\nmodel.add(Dropout(0.25))\n\nmodel.add(Flatten())\nmodel.add(Dense(256, activation = 'relu'))\nmodel.add(Dropout(0.5))\nmodel.add(Dense(10, activation = 'softmax'))",
      "execution_count": null,
      "outputs": []
    },
    {
      "metadata": {
        "_uuid": "72c5647cd70e737d92772883b079d01b000a6dba",
        "collapsed": true,
        "_cell_guid": "be6a679a-4485-41b8-8f28-e2d745f69d51",
        "trusted": false
      },
      "cell_type": "code",
      "source": "# set the optimizer and annealer\n    # read up on categorical cross entropy - used to measure loss in multiclass classification\n\n# define the optimizer\noptimizer = RMSprop(lr = 0.001,\n                    rho = 0.9,# what is rho?\n                   epsilon = 1e-08,# ?\n                   decay = 0.0)# ?\n\n# compile the model\nmodel.compile(optimizer = optimizer,\n             loss = 'categorical_crossentropy',\n             metrics=[\"accuracy\"])",
      "execution_count": null,
      "outputs": []
    },
    {
      "metadata": {
        "_uuid": "cd62458a27f489635d85f62fcc93b76b6f039f1e",
        "collapsed": true,
        "_cell_guid": "77111223-d0f6-43e1-81b6-82d71fca55fe",
        "trusted": false
      },
      "cell_type": "code",
      "source": "# set a learning rate annealer\n# start with high learning rate for faster computation and reduce it by pre defined factor if the accuracy does not improve\n\nlearning_rate_reduction = ReduceLROnPlateau(monitor='val_acc',\n                                           patience=3,\n                                           verbose=1,\n                                           factor=0.5,\n                                           min_lr=0.00001)",
      "execution_count": null,
      "outputs": []
    },
    {
      "metadata": {
        "_uuid": "12119a442373a1f190646390e4e5060d158d30f4",
        "collapsed": true,
        "_cell_guid": "e823ab9d-10ba-4e6f-847f-1f7aac081a25",
        "trusted": false
      },
      "cell_type": "code",
      "source": "epochs = 5 # turn to 30 for 0.9967 accuracy\nbatch_size = 86 # how to decide optimal batch size?",
      "execution_count": null,
      "outputs": []
    },
    {
      "metadata": {
        "_uuid": "fc1e6851a0e9e89cd362b93d460072022d8fdda6",
        "_cell_guid": "8f56c13a-0924-4e44-a15e-76a46c338512",
        "trusted": false,
        "collapsed": true
      },
      "cell_type": "code",
      "source": "# data augmentation - read up\n\n# approaches that alter the training dataset without changing the labels thus creating more data artificially are data called data augmentation techniques. \n# Common methods include grayscales, horizontal/vertical flips, random crops, color jitters, translations, rotations, etc.\n\ndatagen = ImageDataGenerator(featurewise_center = False,# set input mean to 0 over the dataset\n                            samplewise_center = False,# set each sample mean to 0\n                            featurewise_std_normalization = False, # divide inputs by std of the dataset\n                            samplewise_std_normalization = False, # divide each input by its std\n                            zca_whitening = False, # apply ZCA whitening\n                            rotation_range = 10, # randomly rotate images in the range (degrees, 0 to 180)\n                            zoom_range = 0.01,# randomly zoom image\n                            width_shift_range = 0.01,# randomly shift images horizontally (fraction of total width)\n                            height_shift_range = 0.01,# randomly shift images verticall (fraction of  total height)\n                            horizontal_flip = False,# randomly flip images\n                            vertical_flip = False)#randomly flip images\ndatagen.fit(X_train)# how much data is generated, 2 time, 3 times the original train data?",
      "execution_count": null,
      "outputs": []
    },
    {
      "metadata": {
        "_uuid": "7d16089a465160a94039e56c1a112bede333c841",
        "_cell_guid": "95195eb3-f5d0-4058-8114-c1cd1044ef5c",
        "trusted": false,
        "collapsed": true
      },
      "cell_type": "code",
      "source": "# fit the model\nhistory = model.fit_generator(datagen.flow(X_train, Y_train, batch_size=batch_size),\n                             epochs = epochs,\n                             validation_data = (X_val, Y_val),\n                             verbose = 2,\n                             steps_per_epoch = X_train.shape[0]  // batch_size,# am I passing the complete training data per epoch?\n                             callbacks = [learning_rate_reduction])# how does callbacks work?",
      "execution_count": null,
      "outputs": []
    },
    {
      "metadata": {
        "_uuid": "1bec26903477b81f68172a79a7970a4090718b24",
        "_cell_guid": "ff6daa3f-50c5-4a1f-b59c-548fbd9a33e3"
      },
      "cell_type": "markdown",
      "source": "<h3>Evaluate the model</h3>"
    },
    {
      "metadata": {
        "_uuid": "0742a2644de9b40f0a2f698d5376182fd2d5c7df",
        "_cell_guid": "cf9fc98f-9a1a-41d8-a0fa-fd33f67988d0",
        "trusted": false,
        "collapsed": true
      },
      "cell_type": "code",
      "source": "# train and test validation curves - read up\n# can I retrain a saved keras model? - will help training on higher epocs without runtime error\nfig, ax = plt.subplots(2, 1)\nax[0].plot(history.history['loss'], color = 'b', label = 'Training loss')\nax[0].plot(history.history['val_loss'], color = 'r', label = 'Validation loss', axes = ax[0])\nlegend = ax[0].legend(loc = 'best', shadow = True)\n\nax[1].plot(history.history['acc'], color = 'b', label = 'Training accuracy')\nax[1].plot(history.history['val_acc'], color = 'r', label = 'Validation accuracy')\nlegend = ax[1].legend(loc = 'best', shadow = True)",
      "execution_count": null,
      "outputs": []
    },
    {
      "metadata": {
        "_uuid": "0c9f2789b5bac37c89bcea22d2b399b2fffbb905",
        "_cell_guid": "3e6b54b3-bcbd-4198-bb4c-30824028b256",
        "trusted": false,
        "collapsed": true
      },
      "cell_type": "code",
      "source": "# confusion matrix\n\ndef plot_confusion_matrix(cm, classes, normalize = False, title = 'Confusion matrix', cmap = plt.cm.Blues):\n    '''\n    This function prints out the confusion matrix.\n    Normalization can be applied by setting normalize = True\n    '''\n    plt.imshow(cm, interpolation='nearest', cmap = cmap)\n    plt.title(title)\n    plt.colorbar()\n    tick_marks = np.arange(len(classes))\n    plt.xticks(tick_marks, classes, rotation = 45)\n    plt.yticks(tick_marks, classes)\n    \n    if normalize:\n        cm = cm.astype('float') / cm.sum(axis = 1)[:, np.newaxis]\n    \n    thresh = cm.max() / 2\n    for i, j in itertools.product(range(cm.shape[0]), range(cm.shape[1])):\n        plt.text(j, i, cm[i, j],\n                horizontalalignment='center',\n                color='white' if cm[i, j] > thresh else 'black')\n        \n    plt.tight_layout()\n    plt.ylabel('True label')\n    plt.xlabel('Predicted label')\n    \n# predict the values from valiidation set\nY_pred = model.predict(X_val)\n# convert prediction classes to one hot vectors\nY_pred_classes = np.argmax(Y_pred, axis = 1)\n# convert validation observations to one hot vectors\nY_true = np.argmax(Y_val, axis = 1)\n# compute the confusion matrix\nconfusion_mtx = confusion_matrix(Y_true, Y_pred_classes)\n# plot the confusion matrix\nplot_confusion_matrix(confusion_mtx, classes = range(10))",
      "execution_count": null,
      "outputs": []
    },
    {
      "metadata": {
        "_uuid": "4aad18e862612821c2b5d6ae87008c2a8c3e2f8d",
        "collapsed": true,
        "_cell_guid": "7bb3c335-7fff-4fd3-a054-b70067bcdda5",
        "trusted": false
      },
      "cell_type": "code",
      "source": "# predict results\nresults = model.predict(test)\n\n# select the index with maximum probability\nresults = np.argmax(results, axis = 1)\nresults = pd.Series(results, name = 'Label')",
      "execution_count": null,
      "outputs": []
    },
    {
      "metadata": {
        "_uuid": "28bc6f7a9448fb138c130561cbb645cc462fe2c9",
        "_cell_guid": "cff0d302-9cf6-4f50-88d1-d03698d67d19",
        "trusted": false,
        "collapsed": true
      },
      "cell_type": "code",
      "source": "submission = pd.concat([pd.Series(range(1, 28001), name = 'ImageId'), results], axis = 1)\nsubmission.to_csv('180304_digit_recognizer_mnist_v1.csv', index = False)",
      "execution_count": null,
      "outputs": []
    },
    {
      "metadata": {
        "_uuid": "83d56db7d8040034ed61e76747e4cb13f46a94c8",
        "_cell_guid": "ca7b95f1-d3f2-428c-ad99-85d7d37be81d",
        "trusted": false,
        "collapsed": true
      },
      "cell_type": "code",
      "source": "import os\nos.listdir('../input/')",
      "execution_count": null,
      "outputs": []
    }
  ],
  "metadata": {
    "kernelspec": {
      "display_name": "Python 3",
      "language": "python",
      "name": "python3"
    },
    "language_info": {
      "nbconvert_exporter": "python",
      "version": "3.6.4",
      "pygments_lexer": "ipython3",
      "name": "python",
      "file_extension": ".py",
      "codemirror_mode": {
        "version": 3,
        "name": "ipython"
      },
      "mimetype": "text/x-python"
    }
  },
  "nbformat": 4,
  "nbformat_minor": 1
}
