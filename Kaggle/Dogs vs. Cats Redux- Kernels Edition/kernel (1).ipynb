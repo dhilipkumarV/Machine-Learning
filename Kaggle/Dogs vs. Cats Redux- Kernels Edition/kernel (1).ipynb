{
  "cells": [
    {
      "metadata": {
        "_uuid": "8f2839f25d086af736a60e9eeb907d3b93b6e0e5",
        "_cell_guid": "b1076dfc-b9ad-4769-8c92-a6c4dae69d19",
        "collapsed": true
      },
      "cell_type": "markdown",
      "source": "<h2>Learning the basics of image classification</h2>\n\n* Author - Rohan M. Nanaware\n* Purpose-Create an image classification reference book"
    },
    {
      "metadata": {
        "_uuid": "6ad65b25c46dd76a971571d0a529f28ab0c4c86d"
      },
      "cell_type": "markdown",
      "source": "Reference - \n* [Architecture of CNNs](https://www.analyticsvidhya.com/blog/2017/06/architecture-of-convolutional-neural-networks-simplified-demystified/)\n* [Sentdex tutorial on CNNs]()"
    },
    {
      "metadata": {
        "_uuid": "35eeb835993b5063f5c5343accc420946c848a1a",
        "trusted": true
      },
      "cell_type": "code",
      "source": "import os\nimport cv2\nimport tensorflow as tf\nimport matplotlib.pyplot as plt",
      "execution_count": null,
      "outputs": []
    },
    {
      "metadata": {
        "_uuid": "036e899c2b5a1cd945f938b9a1188501db72ec7d",
        "trusted": true
      },
      "cell_type": "code",
      "source": "print(os.listdir('../input/train')[:5])\nsum(1 for i in os.listdir('../input/train') if i[:3] == 'cat')/len(os.listdir('../input/train'))",
      "execution_count": null,
      "outputs": []
    },
    {
      "metadata": {
        "trusted": true,
        "_uuid": "8ee760e1fde9eb2571d323ee20942ba8ebd89581"
      },
      "cell_type": "code",
      "source": "img = cv2.imread('../input/train/cat.11679.jpg', cv2.IMREAD_COLOR)\nimg = cv2.cvtColor(img, cv2.COLOR_BGR2GRAY)\nimg.shape",
      "execution_count": null,
      "outputs": []
    },
    {
      "metadata": {
        "_uuid": "49b942a1e160f91de32aad4b99ac03d19e0462f2"
      },
      "cell_type": "markdown",
      "source": "We have an equal split of dog and cat images in the training data"
    }
  ],
  "metadata": {
    "language_info": {
      "name": "python",
      "version": "3.6.6",
      "mimetype": "text/x-python",
      "codemirror_mode": {
        "name": "ipython",
        "version": 3
      },
      "pygments_lexer": "ipython3",
      "nbconvert_exporter": "python",
      "file_extension": ".py"
    },
    "kernelspec": {
      "display_name": "Python 3",
      "language": "python",
      "name": "python3"
    }
  },
  "nbformat": 4,
  "nbformat_minor": 1
}